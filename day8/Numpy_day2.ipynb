{
 "cells": [
  {
   "cell_type": "code",
   "execution_count": 1,
   "id": "0c53371f-bb11-40ff-90cd-f40f27444246",
   "metadata": {},
   "outputs": [
    {
     "name": "stdout",
     "output_type": "stream",
     "text": [
      "[[ 1  2  3  4]\n",
      " [11 23 33 40]\n",
      " [ 5  7  9 90]]\n"
     ]
    }
   ],
   "source": [
    "import numpy as np\n",
    "a=np.array([[1,2,3,4],[11,23,33,40],[5,7,9,90]])\n",
    "print(a)"
   ]
  },
  {
   "cell_type": "code",
   "execution_count": 2,
   "id": "084e8943-6ae1-45b7-99b4-66b1ae69c910",
   "metadata": {},
   "outputs": [
    {
     "data": {
      "text/plain": [
       "1"
      ]
     },
     "execution_count": 2,
     "metadata": {},
     "output_type": "execute_result"
    }
   ],
   "source": [
    "a[0,0]\n"
   ]
  },
  {
   "cell_type": "code",
   "execution_count": 3,
   "id": "b130e13a-c515-4b68-8550-acea1fe1f40a",
   "metadata": {},
   "outputs": [
    {
     "data": {
      "text/plain": [
       "90"
      ]
     },
     "execution_count": 3,
     "metadata": {},
     "output_type": "execute_result"
    }
   ],
   "source": [
    "a[2,3]\n"
   ]
  },
  {
   "cell_type": "code",
   "execution_count": 4,
   "id": "bfd8658d-1be8-4c78-b7b4-b429d78e2e0a",
   "metadata": {},
   "outputs": [
    {
     "data": {
      "text/plain": [
       "33"
      ]
     },
     "execution_count": 4,
     "metadata": {},
     "output_type": "execute_result"
    }
   ],
   "source": [
    "a[1,2]\n"
   ]
  },
  {
   "cell_type": "code",
   "execution_count": 5,
   "id": "7f19039f-2185-434f-b208-8cc7e2ed2d26",
   "metadata": {},
   "outputs": [
    {
     "data": {
      "text/plain": [
       "(3, 4)"
      ]
     },
     "execution_count": 5,
     "metadata": {},
     "output_type": "execute_result"
    }
   ],
   "source": [
    "a.shape\n"
   ]
  },
  {
   "cell_type": "code",
   "execution_count": 6,
   "id": "97683bf4-afc0-4b8b-b4af-bcf42562768c",
   "metadata": {},
   "outputs": [
    {
     "data": {
      "text/plain": [
       "array([7, 9])"
      ]
     },
     "execution_count": 6,
     "metadata": {},
     "output_type": "execute_result"
    }
   ],
   "source": [
    "a[2,1:3]\n"
   ]
  },
  {
   "cell_type": "code",
   "execution_count": 7,
   "id": "703f146f-81b9-4f01-b020-66ba1d589493",
   "metadata": {},
   "outputs": [
    {
     "data": {
      "text/plain": [
       "array([[33, 40],\n",
       "       [ 9, 90]])"
      ]
     },
     "execution_count": 7,
     "metadata": {},
     "output_type": "execute_result"
    }
   ],
   "source": [
    "a[1:3,2:4]\n",
    "\n"
   ]
  },
  {
   "cell_type": "code",
   "execution_count": 8,
   "id": "6a255dc7-2da6-43aa-9c96-b69406d78003",
   "metadata": {},
   "outputs": [
    {
     "data": {
      "text/plain": [
       "array([[33, 40],\n",
       "       [ 9, 90]])"
      ]
     },
     "execution_count": 8,
     "metadata": {},
     "output_type": "execute_result"
    }
   ],
   "source": [
    "a[1:,2:]"
   ]
  },
  {
   "cell_type": "code",
   "execution_count": 9,
   "id": "d90abef7-df7f-423a-bee4-2978372f1325",
   "metadata": {},
   "outputs": [
    {
     "data": {
      "text/plain": [
       "array([[ 1,  2,  3,  4],\n",
       "       [11, 23, 33, 40],\n",
       "       [ 5,  7,  9, 90]])"
      ]
     },
     "execution_count": 9,
     "metadata": {},
     "output_type": "execute_result"
    }
   ],
   "source": [
    "a[0:3]"
   ]
  },
  {
   "cell_type": "code",
   "execution_count": 10,
   "id": "8e94aeaa-0b12-460e-a43f-a23e914f6d97",
   "metadata": {},
   "outputs": [
    {
     "data": {
      "text/plain": [
       "array([11, 23])"
      ]
     },
     "execution_count": 10,
     "metadata": {},
     "output_type": "execute_result"
    }
   ],
   "source": [
    "a[1,:2]"
   ]
  },
  {
   "cell_type": "markdown",
   "id": "e92eb13d-689c-4ffe-948e-feddaec03f35",
   "metadata": {},
   "source": [
    "#arange\n"
   ]
  },
  {
   "cell_type": "code",
   "execution_count": 11,
   "id": "ef9bc9be-12b2-414e-8c14-3c0e02252dd7",
   "metadata": {},
   "outputs": [
    {
     "data": {
      "text/plain": [
       "array([[ 4],\n",
       "       [40],\n",
       "       [90]])"
      ]
     },
     "execution_count": 11,
     "metadata": {},
     "output_type": "execute_result"
    }
   ],
   "source": [
    "a[0:3,3:]\n"
   ]
  },
  {
   "cell_type": "code",
   "execution_count": 12,
   "id": "47d37a95-3e36-4e3d-9ac3-3c42612aa540",
   "metadata": {},
   "outputs": [
    {
     "data": {
      "text/plain": [
       "array([ 5,  6,  7,  8,  9, 10, 11, 12, 13, 14, 15, 16, 17, 18, 19, 20, 21,\n",
       "       22, 23, 24, 25, 26, 27, 28, 29, 30, 31, 32, 33, 34, 35, 36, 37, 38,\n",
       "       39, 40, 41, 42, 43, 44, 45, 46, 47, 48, 49, 50])"
      ]
     },
     "execution_count": 12,
     "metadata": {},
     "output_type": "execute_result"
    }
   ],
   "source": [
    "np.arange(5,51)"
   ]
  },
  {
   "cell_type": "markdown",
   "id": "dfd3211b-6be7-4863-91b5-7f978fd2b3c0",
   "metadata": {},
   "source": [
    "# Reshape"
   ]
  },
  {
   "cell_type": "code",
   "execution_count": 13,
   "id": "27a76659-6f82-4971-b327-4f23a7bd204d",
   "metadata": {},
   "outputs": [
    {
     "data": {
      "text/plain": [
       "array([[ 0,  1,  2,  3],\n",
       "       [ 4,  5,  6,  7],\n",
       "       [ 8,  9, 10, 11]])"
      ]
     },
     "execution_count": 13,
     "metadata": {},
     "output_type": "execute_result"
    }
   ],
   "source": [
    "np.arange(12).reshape(3,4)"
   ]
  },
  {
   "cell_type": "code",
   "execution_count": 14,
   "id": "64311d49-6e1d-4e17-b526-18d470810d26",
   "metadata": {},
   "outputs": [
    {
     "data": {
      "text/plain": [
       "9.0"
      ]
     },
     "execution_count": 14,
     "metadata": {},
     "output_type": "execute_result"
    }
   ],
   "source": [
    "np.sqrt(81)"
   ]
  },
  {
   "cell_type": "code",
   "execution_count": 15,
   "id": "a8bafc2c-7063-4de2-8702-86aa47c55b49",
   "metadata": {},
   "outputs": [
    {
     "data": {
      "text/plain": [
       "90"
      ]
     },
     "execution_count": 15,
     "metadata": {},
     "output_type": "execute_result"
    }
   ],
   "source": [
    "a.max()"
   ]
  },
  {
   "cell_type": "code",
   "execution_count": 16,
   "id": "16e90c41-083a-4fc2-9cdb-7ff2d4f49e30",
   "metadata": {},
   "outputs": [
    {
     "data": {
      "text/plain": [
       "1"
      ]
     },
     "execution_count": 16,
     "metadata": {},
     "output_type": "execute_result"
    }
   ],
   "source": [
    "a.min()\n"
   ]
  },
  {
   "cell_type": "code",
   "execution_count": 17,
   "id": "57c4b073-6922-41b4-8468-cba4384485be",
   "metadata": {},
   "outputs": [
    {
     "data": {
      "text/plain": [
       "0"
      ]
     },
     "execution_count": 17,
     "metadata": {},
     "output_type": "execute_result"
    }
   ],
   "source": [
    "a.argmin()"
   ]
  },
  {
   "cell_type": "raw",
   "id": "a33cb080-1387-4a8f-82f7-8afbc2e6cadb",
   "metadata": {},
   "source": []
  },
  {
   "cell_type": "code",
   "execution_count": 18,
   "id": "f1058002-4547-4dd9-9a30-594b0bd1ca3b",
   "metadata": {},
   "outputs": [
    {
     "data": {
      "text/plain": [
       "11"
      ]
     },
     "execution_count": 18,
     "metadata": {},
     "output_type": "execute_result"
    }
   ],
   "source": [
    "a.argmax()"
   ]
  },
  {
   "cell_type": "code",
   "execution_count": 19,
   "id": "b819f43a-6d32-409d-a77b-43fdcaa45ff1",
   "metadata": {},
   "outputs": [
    {
     "data": {
      "text/plain": [
       "0"
      ]
     },
     "execution_count": 19,
     "metadata": {},
     "output_type": "execute_result"
    }
   ],
   "source": [
    "a.argmin()"
   ]
  },
  {
   "cell_type": "code",
   "execution_count": 20,
   "id": "48388129-9137-4a30-a610-7a45b908ab66",
   "metadata": {},
   "outputs": [
    {
     "data": {
      "text/plain": [
       "array([[  2,   4,   6,   8],\n",
       "       [ 22,  46,  66,  80],\n",
       "       [ 10,  14,  18, 180]])"
      ]
     },
     "execution_count": 20,
     "metadata": {},
     "output_type": "execute_result"
    }
   ],
   "source": [
    "a*2"
   ]
  },
  {
   "cell_type": "code",
   "execution_count": 21,
   "id": "8a665136-5403-44cb-8468-de4135a1836d",
   "metadata": {},
   "outputs": [
    {
     "data": {
      "text/plain": [
       "array([[ 11,  12,  13,  14],\n",
       "       [ 21,  33,  43,  50],\n",
       "       [ 15,  17,  19, 100]])"
      ]
     },
     "execution_count": 21,
     "metadata": {},
     "output_type": "execute_result"
    }
   ],
   "source": [
    "a+10"
   ]
  },
  {
   "cell_type": "markdown",
   "id": "29f52f70-8057-4dc0-8402-17375e13d457",
   "metadata": {},
   "source": [
    "# Random"
   ]
  },
  {
   "cell_type": "code",
   "execution_count": 22,
   "id": "6025d773-032d-4365-83a3-54161968782a",
   "metadata": {},
   "outputs": [
    {
     "data": {
      "text/plain": [
       "array([[0.16773   , 0.44591831],\n",
       "       [0.92619596, 0.87264386]])"
      ]
     },
     "execution_count": 22,
     "metadata": {},
     "output_type": "execute_result"
    }
   ],
   "source": [
    "np.random.rand(2,2)"
   ]
  },
  {
   "cell_type": "code",
   "execution_count": 23,
   "id": "ceb94bd8-c3b8-4d50-bdc0-2cf078e3be18",
   "metadata": {},
   "outputs": [
    {
     "data": {
      "text/plain": [
       "array([0.59048221, 0.87128174])"
      ]
     },
     "execution_count": 23,
     "metadata": {},
     "output_type": "execute_result"
    }
   ],
   "source": [
    "np.random.rand(2)"
   ]
  },
  {
   "cell_type": "code",
   "execution_count": 24,
   "id": "2f154f75-46d2-4435-b1ae-7505267300d4",
   "metadata": {},
   "outputs": [
    {
     "data": {
      "text/plain": [
       "array([83, 48, 37, 23, 37, 74, 77, 62, 17, 86, 11, 77])"
      ]
     },
     "execution_count": 24,
     "metadata": {},
     "output_type": "execute_result"
    }
   ],
   "source": [
    "np.random.randint(9,90,12)"
   ]
  },
  {
   "cell_type": "code",
   "execution_count": 25,
   "id": "8a287e70-dc93-4a0c-888a-e33ace071ecf",
   "metadata": {},
   "outputs": [
    {
     "data": {
      "text/plain": [
       "array([[56, 38],\n",
       "       [75, 20],\n",
       "       [25, 30],\n",
       "       [25, 61],\n",
       "       [87, 73],\n",
       "       [89, 81]])"
      ]
     },
     "execution_count": 25,
     "metadata": {},
     "output_type": "execute_result"
    }
   ],
   "source": [
    "np.random.randint(9,90,12).reshape(6,2)"
   ]
  },
  {
   "cell_type": "code",
   "execution_count": 26,
   "id": "0d940c85-41ea-40ba-95b9-947211de5409",
   "metadata": {},
   "outputs": [],
   "source": [
    "s=np.random.randint(9,90,12).reshape(6,2)"
   ]
  },
  {
   "cell_type": "code",
   "execution_count": 27,
   "id": "4fd6ec96-2d4a-4d54-8344-8117e0a26a19",
   "metadata": {},
   "outputs": [
    {
     "data": {
      "text/plain": [
       "array([[67, 54],\n",
       "       [22, 76],\n",
       "       [ 9, 38],\n",
       "       [88, 29],\n",
       "       [38, 78],\n",
       "       [48, 65]])"
      ]
     },
     "execution_count": 27,
     "metadata": {},
     "output_type": "execute_result"
    }
   ],
   "source": [
    "s"
   ]
  },
  {
   "cell_type": "code",
   "execution_count": 28,
   "id": "b655215a-cc78-49c9-b9e0-a62c76acbf5e",
   "metadata": {},
   "outputs": [
    {
     "data": {
      "text/plain": [
       "612"
      ]
     },
     "execution_count": 28,
     "metadata": {},
     "output_type": "execute_result"
    }
   ],
   "source": [
    "s.sum()"
   ]
  },
  {
   "cell_type": "code",
   "execution_count": 29,
   "id": "2d058374-4da6-4f34-ac5e-64221a5a0284",
   "metadata": {},
   "outputs": [
    {
     "data": {
      "text/plain": [
       "array([121,  98,  47, 117, 116, 113])"
      ]
     },
     "execution_count": 29,
     "metadata": {},
     "output_type": "execute_result"
    }
   ],
   "source": [
    "s.sum(axis=1)"
   ]
  },
  {
   "cell_type": "code",
   "execution_count": 30,
   "id": "9c9db015-21ee-4df7-90e6-c676cf6577a9",
   "metadata": {},
   "outputs": [
    {
     "data": {
      "text/plain": [
       "array([272, 340])"
      ]
     },
     "execution_count": 30,
     "metadata": {},
     "output_type": "execute_result"
    }
   ],
   "source": [
    "s.sum(axis=0)"
   ]
  },
  {
   "cell_type": "markdown",
   "id": "653c6d32-d0d3-4d8d-a8ce-9294cb430f77",
   "metadata": {},
   "source": [
    "# 3D"
   ]
  },
  {
   "cell_type": "code",
   "execution_count": 31,
   "id": "ce8428a0-7e96-4f93-816c-cd69c864297d",
   "metadata": {},
   "outputs": [],
   "source": [
    "b=np.array([[[4,40],[5,50],[6,60]],[[7,70],[8,80],[9,90]],[[5,55],[4,40],[6,60]]])"
   ]
  },
  {
   "cell_type": "code",
   "execution_count": 32,
   "id": "f44813d1-4916-4bdf-85a5-158b994fb17f",
   "metadata": {},
   "outputs": [
    {
     "data": {
      "text/plain": [
       "array([[[ 4, 40],\n",
       "        [ 5, 50],\n",
       "        [ 6, 60]],\n",
       "\n",
       "       [[ 7, 70],\n",
       "        [ 8, 80],\n",
       "        [ 9, 90]],\n",
       "\n",
       "       [[ 5, 55],\n",
       "        [ 4, 40],\n",
       "        [ 6, 60]]])"
      ]
     },
     "execution_count": 32,
     "metadata": {},
     "output_type": "execute_result"
    }
   ],
   "source": [
    "b"
   ]
  },
  {
   "cell_type": "code",
   "execution_count": 33,
   "id": "234c7029-3b9b-4847-9be3-4aef0294c4ef",
   "metadata": {},
   "outputs": [
    {
     "data": {
      "text/plain": [
       "(3, 3, 2)"
      ]
     },
     "execution_count": 33,
     "metadata": {},
     "output_type": "execute_result"
    }
   ],
   "source": [
    "b.shape\n"
   ]
  },
  {
   "cell_type": "code",
   "execution_count": 34,
   "id": "2af5830a-e67d-4b01-9f44-c5a3642d7210",
   "metadata": {},
   "outputs": [
    {
     "data": {
      "text/plain": [
       "array([[[ 4, 40],\n",
       "        [ 5, 50],\n",
       "        [ 6, 60]],\n",
       "\n",
       "       [[ 7, 70],\n",
       "        [ 8, 80],\n",
       "        [ 9, 90]],\n",
       "\n",
       "       [[ 5, 55],\n",
       "        [ 4, 40],\n",
       "        [ 6, 60]]])"
      ]
     },
     "execution_count": 34,
     "metadata": {},
     "output_type": "execute_result"
    }
   ],
   "source": [
    "b"
   ]
  },
  {
   "cell_type": "code",
   "execution_count": 35,
   "id": "fe7be5dc-4423-4523-b4d7-a36ebeeb4b05",
   "metadata": {},
   "outputs": [
    {
     "ename": "TypeError",
     "evalue": "'tuple' object is not callable",
     "output_type": "error",
     "traceback": [
      "\u001b[1;31m---------------------------------------------------------------------------\u001b[0m",
      "\u001b[1;31mTypeError\u001b[0m                                 Traceback (most recent call last)",
      "\u001b[1;32mc:\\Users\\Ghanesh Choubey\\Desktop\\macine learning\\day8\\Numpy_day2.ipynb Cell 40\u001b[0m in \u001b[0;36m<cell line: 1>\u001b[1;34m()\u001b[0m\n\u001b[1;32m----> <a href='vscode-notebook-cell:/c%3A/Users/Ghanesh%20Choubey/Desktop/macine%20learning/day8/Numpy_day2.ipynb#X54sZmlsZQ%3D%3D?line=0'>1</a>\u001b[0m b\u001b[39m.\u001b[39;49mshape()\n",
      "\u001b[1;31mTypeError\u001b[0m: 'tuple' object is not callable"
     ]
    }
   ],
   "source": [
    "b.shape()"
   ]
  },
  {
   "cell_type": "code",
   "execution_count": 36,
   "id": "171e977e-2ae6-4d83-9dfb-2ddc62d2ce05",
   "metadata": {},
   "outputs": [
    {
     "data": {
      "text/plain": [
       "(3, 3, 2)"
      ]
     },
     "execution_count": 36,
     "metadata": {},
     "output_type": "execute_result"
    }
   ],
   "source": [
    "b.shape"
   ]
  },
  {
   "cell_type": "code",
   "execution_count": null,
   "id": "9988ded9-b703-4daa-af1c-06e89263a87a",
   "metadata": {},
   "outputs": [],
   "source": []
  },
  {
   "cell_type": "code",
   "execution_count": 37,
   "id": "ae703959-731c-459c-b346-316361de5b11",
   "metadata": {},
   "outputs": [
    {
     "data": {
      "text/plain": [
       "(3, 3, 2)"
      ]
     },
     "execution_count": 37,
     "metadata": {},
     "output_type": "execute_result"
    }
   ],
   "source": [
    "b.shape"
   ]
  },
  {
   "cell_type": "code",
   "execution_count": 38,
   "id": "11c6888d-be0b-4b3d-a352-5e532c996219",
   "metadata": {},
   "outputs": [
    {
     "data": {
      "text/plain": [
       "array([[[ 4, 40],\n",
       "        [ 5, 50],\n",
       "        [ 6, 60]],\n",
       "\n",
       "       [[ 7, 70],\n",
       "        [ 8, 80],\n",
       "        [ 9, 90]],\n",
       "\n",
       "       [[ 5, 55],\n",
       "        [ 4, 40],\n",
       "        [ 6, 60]]])"
      ]
     },
     "execution_count": 38,
     "metadata": {},
     "output_type": "execute_result"
    }
   ],
   "source": [
    "b"
   ]
  },
  {
   "cell_type": "code",
   "execution_count": 39,
   "id": "754b18ab-b689-4926-b953-e7a3c712016f",
   "metadata": {},
   "outputs": [
    {
     "data": {
      "text/plain": [
       "(3, 3, 2)"
      ]
     },
     "execution_count": 39,
     "metadata": {},
     "output_type": "execute_result"
    }
   ],
   "source": [
    "b.shape"
   ]
  },
  {
   "cell_type": "markdown",
   "id": "82e5ad76-6d46-4993-9994-23d70f0d6d31",
   "metadata": {},
   "source": [
    "# Nan -not a number"
   ]
  },
  {
   "cell_type": "code",
   "execution_count": 40,
   "id": "bee10106-cf79-4200-8b82-a143e151b275",
   "metadata": {},
   "outputs": [],
   "source": [
    "x=np.array([12,56,np.nan,66,100,np.nan])"
   ]
  },
  {
   "cell_type": "code",
   "execution_count": 41,
   "id": "b9d8398e-c64d-4e76-add8-d64f4d0b80d1",
   "metadata": {},
   "outputs": [
    {
     "data": {
      "text/plain": [
       "array([ 12.,  56.,  nan,  66., 100.,  nan])"
      ]
     },
     "execution_count": 41,
     "metadata": {},
     "output_type": "execute_result"
    }
   ],
   "source": [
    "x"
   ]
  },
  {
   "cell_type": "code",
   "execution_count": 42,
   "id": "833d4ea3-b156-4a93-b137-89571bf08b9e",
   "metadata": {},
   "outputs": [
    {
     "data": {
      "text/plain": [
       "dtype('float64')"
      ]
     },
     "execution_count": 42,
     "metadata": {},
     "output_type": "execute_result"
    }
   ],
   "source": [
    "x.dtype"
   ]
  },
  {
   "cell_type": "code",
   "execution_count": null,
   "id": "3f845ff3-1940-429a-b060-f9dcc3db86b4",
   "metadata": {},
   "outputs": [],
   "source": []
  },
  {
   "cell_type": "code",
   "execution_count": null,
   "id": "2fb7788a",
   "metadata": {},
   "outputs": [],
   "source": []
  }
 ],
 "metadata": {
  "kernelspec": {
   "display_name": "Python 3.9.12 ('base')",
   "language": "python",
   "name": "python3"
  },
  "language_info": {
   "codemirror_mode": {
    "name": "ipython",
    "version": 3
   },
   "file_extension": ".py",
   "mimetype": "text/x-python",
   "name": "python",
   "nbconvert_exporter": "python",
   "pygments_lexer": "ipython3",
   "version": "3.9.12"
  },
  "vscode": {
   "interpreter": {
    "hash": "ad2bdc8ecc057115af97d19610ffacc2b4e99fae6737bb82f5d7fb13d2f2c186"
   }
  }
 },
 "nbformat": 4,
 "nbformat_minor": 5
}
