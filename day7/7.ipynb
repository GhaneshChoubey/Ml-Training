{
 "cells": [
  {
   "cell_type": "code",
   "execution_count": 1,
   "id": "e3b93be5-c550-40ac-b8d4-ee55e4a66c2d",
   "metadata": {},
   "outputs": [
    {
     "data": {
      "text/plain": [
       "7"
      ]
     },
     "execution_count": 1,
     "metadata": {},
     "output_type": "execute_result"
    }
   ],
   "source": [
    "3+4\n"
   ]
  },
  {
   "cell_type": "code",
   "execution_count": 2,
   "id": "73664d3d-3790-46e9-9970-de0504f4f025",
   "metadata": {},
   "outputs": [
    {
     "name": "stdout",
     "output_type": "stream",
     "text": [
      "Wlecome to jungal\n"
     ]
    }
   ],
   "source": [
    "print(\"Wlecome to jungal\")\n"
   ]
  },
  {
   "cell_type": "code",
   "execution_count": 3,
   "id": "1727ee6c-cd3e-45ed-91e4-965587f7859f",
   "metadata": {},
   "outputs": [],
   "source": [
    "#1st Heading\n"
   ]
  },
  {
   "cell_type": "markdown",
   "id": "c2784e7a-b0d9-47e9-a356-3c6cff625dbe",
   "metadata": {},
   "source": [
    "\n",
    "## 2nd Heaging"
   ]
  },
  {
   "cell_type": "markdown",
   "id": "56da6d77-df5e-40e2-ad14-1c4972144456",
   "metadata": {},
   "source": [
    "# this is first point\n",
    "## this is second point\n",
    "### this is third point\n"
   ]
  },
  {
   "cell_type": "code",
   "execution_count": 4,
   "id": "7e65f2f8-f55f-4121-91e5-e9c945c7376a",
   "metadata": {},
   "outputs": [
    {
     "ename": "SyntaxError",
     "evalue": "invalid syntax (2635529345.py, line 1)",
     "output_type": "error",
     "traceback": [
      "\u001b[1;36m  Input \u001b[1;32mIn [4]\u001b[1;36m\u001b[0m\n\u001b[1;33m    * this is\u001b[0m\n\u001b[1;37m           ^\u001b[0m\n\u001b[1;31mSyntaxError\u001b[0m\u001b[1;31m:\u001b[0m invalid syntax\n"
     ]
    }
   ],
   "source": [
    "* this is\n"
   ]
  },
  {
   "cell_type": "code",
   "execution_count": 5,
   "id": "ca305157-e018-4cdb-a2f3-184d50adee45",
   "metadata": {},
   "outputs": [
    {
     "ename": "SyntaxError",
     "evalue": "invalid syntax (488398464.py, line 1)",
     "output_type": "error",
     "traceback": [
      "\u001b[1;36m  Input \u001b[1;32mIn [5]\u001b[1;36m\u001b[0m\n\u001b[1;33m    *this uyi\u001b[0m\n\u001b[1;37m          ^\u001b[0m\n\u001b[1;31mSyntaxError\u001b[0m\u001b[1;31m:\u001b[0m invalid syntax\n"
     ]
    }
   ],
   "source": [
    "*this uyi"
   ]
  },
  {
   "cell_type": "code",
   "execution_count": 6,
   "id": "ce5bc8bb-aae5-4491-87ca-0293974092a2",
   "metadata": {},
   "outputs": [
    {
     "ename": "SyntaxError",
     "evalue": "invalid syntax (775972222.py, line 1)",
     "output_type": "error",
     "traceback": [
      "\u001b[1;36m  Input \u001b[1;32mIn [6]\u001b[1;36m\u001b[0m\n\u001b[1;33m    * this iglf\u001b[0m\n\u001b[1;37m           ^\u001b[0m\n\u001b[1;31mSyntaxError\u001b[0m\u001b[1;31m:\u001b[0m invalid syntax\n"
     ]
    }
   ],
   "source": [
    "* this iglf"
   ]
  },
  {
   "cell_type": "code",
   "execution_count": 7,
   "id": "01c2603b-12df-482d-93b5-388299f0a5f9",
   "metadata": {},
   "outputs": [
    {
     "ename": "SyntaxError",
     "evalue": "invalid syntax (91058321.py, line 1)",
     "output_type": "error",
     "traceback": [
      "\u001b[1;36m  Input \u001b[1;32mIn [7]\u001b[1;36m\u001b[0m\n\u001b[1;33m    1.This is third point\u001b[0m\n\u001b[1;37m      ^\u001b[0m\n\u001b[1;31mSyntaxError\u001b[0m\u001b[1;31m:\u001b[0m invalid syntax\n"
     ]
    }
   ],
   "source": [
    "1.This is third point\n"
   ]
  },
  {
   "cell_type": "code",
   "execution_count": 8,
   "id": "783d4db3-69fc-4d0d-b59f-48183029a20e",
   "metadata": {},
   "outputs": [
    {
     "ename": "SyntaxError",
     "evalue": "invalid syntax (3398329018.py, line 1)",
     "output_type": "error",
     "traceback": [
      "\u001b[1;36m  Input \u001b[1;32mIn [8]\u001b[1;36m\u001b[0m\n\u001b[1;33m    * this id\u001b[0m\n\u001b[1;37m           ^\u001b[0m\n\u001b[1;31mSyntaxError\u001b[0m\u001b[1;31m:\u001b[0m invalid syntax\n"
     ]
    }
   ],
   "source": [
    "* this id\n"
   ]
  },
  {
   "cell_type": "code",
   "execution_count": 9,
   "id": "39575b0b-8b5e-4328-920f-08d9d6c3c38e",
   "metadata": {},
   "outputs": [
    {
     "ename": "SyntaxError",
     "evalue": "invalid syntax (1062176775.py, line 1)",
     "output_type": "error",
     "traceback": [
      "\u001b[1;36m  Input \u001b[1;32mIn [9]\u001b[1;36m\u001b[0m\n\u001b[1;33m    1. This is third point\u001b[0m\n\u001b[1;37m       ^\u001b[0m\n\u001b[1;31mSyntaxError\u001b[0m\u001b[1;31m:\u001b[0m invalid syntax\n"
     ]
    }
   ],
   "source": [
    "1. This is third point\n"
   ]
  },
  {
   "cell_type": "code",
   "execution_count": 10,
   "id": "2db1b31c-1ab3-4af7-a2c3-278ffab6d3fd",
   "metadata": {},
   "outputs": [],
   "source": [
    "import os"
   ]
  },
  {
   "cell_type": "code",
   "execution_count": 11,
   "id": "ea8f846a-3c80-46a7-b41e-53060ab4d293",
   "metadata": {},
   "outputs": [
    {
     "data": {
      "text/plain": [
       "'c:\\\\Users\\\\Ghanesh Choubey\\\\Desktop\\\\macine learning\\\\day7'"
      ]
     },
     "execution_count": 11,
     "metadata": {},
     "output_type": "execute_result"
    }
   ],
   "source": [
    "os.getcwd()\n"
   ]
  },
  {
   "cell_type": "code",
   "execution_count": 12,
   "id": "a04badfe-a6ec-45ed-8ea4-7be0a6df6c21",
   "metadata": {},
   "outputs": [],
   "source": [
    "os.mkdir(\"Empty_folder\")"
   ]
  },
  {
   "cell_type": "code",
   "execution_count": 13,
   "id": "30998612-30ff-44f1-820f-80abed3a600d",
   "metadata": {},
   "outputs": [],
   "source": [
    "import random\n"
   ]
  },
  {
   "cell_type": "code",
   "execution_count": 14,
   "id": "e546d410-e24b-478a-8318-f0f623fad33f",
   "metadata": {},
   "outputs": [],
   "source": [
    "\n",
    "val=random.random()\n"
   ]
  },
  {
   "cell_type": "code",
   "execution_count": 15,
   "id": "a4b870a1-a3e3-4954-82c5-23796884f7a3",
   "metadata": {},
   "outputs": [
    {
     "name": "stdout",
     "output_type": "stream",
     "text": [
      "0.20508091344617185\n"
     ]
    }
   ],
   "source": [
    "print(val)"
   ]
  },
  {
   "cell_type": "code",
   "execution_count": 16,
   "id": "615a50f3-0243-4d07-a69c-2a3b6590afef",
   "metadata": {},
   "outputs": [
    {
     "name": "stdout",
     "output_type": "stream",
     "text": [
      "1\n"
     ]
    }
   ],
   "source": [
    "val2=random.randint(1,10)\n",
    "print(val2)\n"
   ]
  },
  {
   "cell_type": "code",
   "execution_count": 17,
   "id": "b5aba41f-a6f3-4b95-9bd4-a342fc6a8fc0",
   "metadata": {},
   "outputs": [
    {
     "name": "stdout",
     "output_type": "stream",
     "text": [
      "['howdy', 'howdy', 'howdy']\n"
     ]
    }
   ],
   "source": [
    "m=['hi','hello','havy','howdy']\n",
    "val=random.choices(m,k=3)\n",
    "print(val)"
   ]
  },
  {
   "cell_type": "markdown",
   "id": "7b335fde-db4f-46a8-b7f0-8cdc85a1b794",
   "metadata": {},
   "source": [
    "#shuffel"
   ]
  },
  {
   "cell_type": "code",
   "execution_count": 18,
   "id": "3e007a2d-0d0f-4704-98c4-9bcd995f8634",
   "metadata": {},
   "outputs": [
    {
     "ename": "AttributeError",
     "evalue": "module 'random' has no attribute 'shuffel'",
     "output_type": "error",
     "traceback": [
      "\u001b[1;31m---------------------------------------------------------------------------\u001b[0m",
      "\u001b[1;31mAttributeError\u001b[0m                            Traceback (most recent call last)",
      "\u001b[1;32mc:\\Users\\Ghanesh Choubey\\Desktop\\macine learning\\day7\\7.ipynb Cell 21\u001b[0m in \u001b[0;36m<cell line: 2>\u001b[1;34m()\u001b[0m\n\u001b[0;32m      <a href='vscode-notebook-cell:/c%3A/Users/Ghanesh%20Choubey/Desktop/macine%20learning/day7/7.ipynb#X26sZmlsZQ%3D%3D?line=0'>1</a>\u001b[0m m\u001b[39m=\u001b[39m[\u001b[39m'\u001b[39m\u001b[39mhi\u001b[39m\u001b[39m'\u001b[39m,\u001b[39m'\u001b[39m\u001b[39mhello\u001b[39m\u001b[39m'\u001b[39m,\u001b[39m'\u001b[39m\u001b[39mhavy\u001b[39m\u001b[39m'\u001b[39m,\u001b[39m'\u001b[39m\u001b[39mhowdy\u001b[39m\u001b[39m'\u001b[39m]\n\u001b[1;32m----> <a href='vscode-notebook-cell:/c%3A/Users/Ghanesh%20Choubey/Desktop/macine%20learning/day7/7.ipynb#X26sZmlsZQ%3D%3D?line=1'>2</a>\u001b[0m val\u001b[39m=\u001b[39mrandom\u001b[39m.\u001b[39;49mshuffel(m,k\u001b[39m=\u001b[39m\u001b[39m3\u001b[39m)\n\u001b[0;32m      <a href='vscode-notebook-cell:/c%3A/Users/Ghanesh%20Choubey/Desktop/macine%20learning/day7/7.ipynb#X26sZmlsZQ%3D%3D?line=2'>3</a>\u001b[0m \u001b[39mprint\u001b[39m(val)\n",
      "\u001b[1;31mAttributeError\u001b[0m: module 'random' has no attribute 'shuffel'"
     ]
    }
   ],
   "source": [
    "m=['hi','hello','havy','howdy']\n",
    "val=random.shuffel(m,k=3)\n",
    "print(val)\n"
   ]
  },
  {
   "cell_type": "code",
   "execution_count": 19,
   "id": "1d7eeb1e-c818-4847-80bf-7b50e7cfd5b2",
   "metadata": {},
   "outputs": [
    {
     "name": "stdout",
     "output_type": "stream",
     "text": [
      "['hi', 'howdy', 'havy', 'hello']\n"
     ]
    }
   ],
   "source": [
    "random.shuffle(m)\n",
    "print(m)"
   ]
  },
  {
   "cell_type": "code",
   "execution_count": null,
   "id": "5d9cbb90-c067-4486-8c3a-d984fb59c719",
   "metadata": {},
   "outputs": [],
   "source": []
  }
 ],
 "metadata": {
  "kernelspec": {
   "display_name": "Python 3.9.12 ('base')",
   "language": "python",
   "name": "python3"
  },
  "language_info": {
   "codemirror_mode": {
    "name": "ipython",
    "version": 3
   },
   "file_extension": ".py",
   "mimetype": "text/x-python",
   "name": "python",
   "nbconvert_exporter": "python",
   "pygments_lexer": "ipython3",
   "version": "3.9.12"
  },
  "vscode": {
   "interpreter": {
    "hash": "ad2bdc8ecc057115af97d19610ffacc2b4e99fae6737bb82f5d7fb13d2f2c186"
   }
  }
 },
 "nbformat": 4,
 "nbformat_minor": 5
}
